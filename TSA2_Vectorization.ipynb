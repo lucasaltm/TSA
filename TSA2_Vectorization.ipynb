{
 "cells": [
  {
   "cell_type": "markdown",
   "id": "2f7516a4",
   "metadata": {},
   "source": [
    "![Twitter Sentiment Analysis](tt.png)"
   ]
  },
  {
   "cell_type": "markdown",
   "id": "8c708982-e212-4465-bee0-2cb84b0c63ac",
   "metadata": {},
   "source": [
    "# Sentiment Analysis From Scratch: A Deep Dive into Twitter Data\n",
    "\n",
    "### Notebook 2: Word Vectorization\n",
    "In the vast world of Natural Language Processing (NLP), transforming textual data into a numerical format is a foundational step. This notebook delves deep into the vectorization aspect of the sentiment analysis project, turning raw tweet text into vectors that can be fed into machine learning algorithms.\n",
    "\n",
    "The journey begins with the preparation of the dataset, splitting it into training and testing sets, ensuring a robust evaluation process. Following this, several vectorization techniques are explored, each with its unique approach and advantages:"
   ]
  },
  {
   "cell_type": "markdown",
   "id": "25ff4d6d-d022-4551-9a17-a13b45bd2c1e",
   "metadata": {},
   "source": [
    "**CountVectorizer:** A simple yet effective method that transforms the text into vectors based on word count.\n",
    "\n",
    "**TF-IDF Vectorizer:** Going a step beyond mere counting, this method weighs terms based on their importance in the corpus, distinguishing between common and rare terms.\n",
    "\n",
    "**Word2Vec:** A more advanced technique that captures the semantic meaning of words based on their context. Both Skip-Gram and CBOW models are explored to achieve this"
   ]
  },
  {
   "cell_type": "markdown",
   "id": "8f230684-d508-41ee-a0f7-9feed904c8c8",
   "metadata": {},
   "source": [
    "Additionally, a logistic regression model is trained and evaluated as a preliminary step to gauge the effectiveness of the vectorized data. This notebook sets the stage for subsequent modeling and deep analysis, ensuring the data is well-prepared and understood.\n",
    "\n",
    "---\n",
    "\n",
    "## Importing Libs"
   ]
  },
  {
   "cell_type": "code",
   "execution_count": 1,
   "id": "e551a5d0",
   "metadata": {},
   "outputs": [],
   "source": [
    "import pandas as pd\n",
    "from sklearn.model_selection import train_test_split\n",
    "from datetime import datetime\n",
    "from gensim.models import Word2Vec\n",
    "from nltk import tokenize\n",
    "import numpy as np\n",
    "from sklearn.linear_model import LogisticRegression\n",
    "from sklearn.feature_extraction.text import CountVectorizer,TfidfVectorizer\n",
    "from sklearn import metrics\n",
    "from sklearn.metrics import f1_score, accuracy_score, precision_score, recall_score\n",
    "from transformers import BertTokenizer, BertModel\n",
    "import torch\n",
    "from torch.utils.data import DataLoader, Dataset, RandomSampler, SequentialSampler\n",
    "from tqdm.notebook import tqdm\n",
    "import matplotlib.pyplot as plt\n",
    "import seaborn as sns\n",
    "import os\n",
    "from tqdm import tqdm\n",
    "from IPython.display import clear_output\n",
    "%matplotlib inline"
   ]
  },
  {
   "cell_type": "markdown",
   "id": "2af946f0",
   "metadata": {},
   "source": [
    "## Reading cleaned dataframe"
   ]
  },
  {
   "cell_type": "code",
   "execution_count": 2,
   "id": "5d724194",
   "metadata": {},
   "outputs": [
    {
     "data": {
      "text/html": [
       "<div>\n",
       "<style scoped>\n",
       "    .dataframe tbody tr th:only-of-type {\n",
       "        vertical-align: middle;\n",
       "    }\n",
       "\n",
       "    .dataframe tbody tr th {\n",
       "        vertical-align: top;\n",
       "    }\n",
       "\n",
       "    .dataframe thead th {\n",
       "        text-align: right;\n",
       "    }\n",
       "</style>\n",
       "<table border=\"1\" class=\"dataframe\">\n",
       "  <thead>\n",
       "    <tr style=\"text-align: right;\">\n",
       "      <th></th>\n",
       "      <th>target</th>\n",
       "      <th>text</th>\n",
       "      <th>text2</th>\n",
       "      <th>text3</th>\n",
       "      <th>text4</th>\n",
       "      <th>text5</th>\n",
       "      <th>text6</th>\n",
       "    </tr>\n",
       "  </thead>\n",
       "  <tbody>\n",
       "    <tr>\n",
       "      <th>0</th>\n",
       "      <td>0</td>\n",
       "      <td>@switchfoot http://twitpic.com/2y1zl - Awww, t...</td>\n",
       "      <td>@switchfoot - awww, that's bummer. shoulda got...</td>\n",
       "      <td>switchfoot awww bummer shoulda got david carr ...</td>\n",
       "      <td>switchfoot awww bummer shoulda got david carr ...</td>\n",
       "      <td>switchfoot awww bummer shoulda got david carr ...</td>\n",
       "      <td>switchfoot awww bummer shoulda got david carr ...</td>\n",
       "    </tr>\n",
       "    <tr>\n",
       "      <th>1</th>\n",
       "      <td>0</td>\n",
       "      <td>is upset that he can't update his Facebook by ...</td>\n",
       "      <td>upset can't update facebook texting it... migh...</td>\n",
       "      <td>upset update facebook texting ... might cry re...</td>\n",
       "      <td>upset update facebook texting ... might cry re...</td>\n",
       "      <td>upset updat facebook text ... might cri result...</td>\n",
       "      <td>upset updat facebook text might cri result sch...</td>\n",
       "    </tr>\n",
       "    <tr>\n",
       "      <th>2</th>\n",
       "      <td>0</td>\n",
       "      <td>@Kenichan I dived many times for the ball. Man...</td>\n",
       "      <td>@kenichan dived many times ball. managed save ...</td>\n",
       "      <td>kenichan dived many times ball managed save 50...</td>\n",
       "      <td>kenichan dived many times ball managed save 50...</td>\n",
       "      <td>kenichan dive mani time ball manag save 50 res...</td>\n",
       "      <td>kenichan dive mani time ball manag save rest g...</td>\n",
       "    </tr>\n",
       "  </tbody>\n",
       "</table>\n",
       "</div>"
      ],
      "text/plain": [
       "   target                                               text  \\\n",
       "0       0  @switchfoot http://twitpic.com/2y1zl - Awww, t...   \n",
       "1       0  is upset that he can't update his Facebook by ...   \n",
       "2       0  @Kenichan I dived many times for the ball. Man...   \n",
       "\n",
       "                                               text2  \\\n",
       "0  @switchfoot - awww, that's bummer. shoulda got...   \n",
       "1  upset can't update facebook texting it... migh...   \n",
       "2  @kenichan dived many times ball. managed save ...   \n",
       "\n",
       "                                               text3  \\\n",
       "0  switchfoot awww bummer shoulda got david carr ...   \n",
       "1  upset update facebook texting ... might cry re...   \n",
       "2  kenichan dived many times ball managed save 50...   \n",
       "\n",
       "                                               text4  \\\n",
       "0  switchfoot awww bummer shoulda got david carr ...   \n",
       "1  upset update facebook texting ... might cry re...   \n",
       "2  kenichan dived many times ball managed save 50...   \n",
       "\n",
       "                                               text5  \\\n",
       "0  switchfoot awww bummer shoulda got david carr ...   \n",
       "1  upset updat facebook text ... might cri result...   \n",
       "2  kenichan dive mani time ball manag save 50 res...   \n",
       "\n",
       "                                               text6  \n",
       "0  switchfoot awww bummer shoulda got david carr ...  \n",
       "1  upset updat facebook text might cri result sch...  \n",
       "2  kenichan dive mani time ball manag save rest g...  "
      ]
     },
     "execution_count": 2,
     "metadata": {},
     "output_type": "execute_result"
    }
   ],
   "source": [
    "tweets = pd.read_csv('training.1600000.processed.noemoticon_cleaned.csv')\n",
    "tweets.head(3)"
   ]
  },
  {
   "cell_type": "markdown",
   "id": "bb507db6",
   "metadata": {},
   "source": [
    "## Splitting data into train and test\n",
    "\n",
    "Before training any machine learning model, it's essential to split the data into training and testing sets. This allows the model to be trained on a portion of the data and tested on an unseen part, ensuring a fair evaluation of performance."
   ]
  },
  {
   "cell_type": "code",
   "execution_count": 3,
   "id": "c570b7d4",
   "metadata": {},
   "outputs": [],
   "source": [
    "X_train, X_test, y_train, y_test = train_test_split(tweets['text6'], tweets['target'], random_state = 5, train_size=0.8)\n",
    "X_train = X_train.reset_index(drop=True)\n",
    "y_train = y_train.reset_index(drop=True)"
   ]
  },
  {
   "cell_type": "markdown",
   "id": "300f2838",
   "metadata": {},
   "source": [
    "## Logistic Regression: Functions for Model Training and Evaluation\n",
    "\n",
    "Logistic regression offers a straightforward and effective approach to binary classification. In this section, we define functions to train the model and evaluate its performance."
   ]
  },
  {
   "cell_type": "code",
   "execution_count": 4,
   "id": "40177065",
   "metadata": {},
   "outputs": [],
   "source": [
    "def classificate_lr (X_train, X_test, y_train, y_test):\n",
    "    t1 = datetime.now()\n",
    "    logistic_regression = LogisticRegression(solver = \"lbfgs\", max_iter=10000)\n",
    "    logistic_regression.fit(X_train, y_train)\n",
    "    t2 = datetime.now()\n",
    "    \n",
    "    y_pred = logistic_regression.predict(X_test)\n",
    "    \n",
    "    print('Trained model. The training process lasted {} seconds.'.format((t2-t1).total_seconds(), '2f'))\n",
    "    \n",
    "    accuracy = metrics.accuracy_score(y_test, y_pred)\n",
    "    precision = metrics.precision_score(y_test, y_pred)\n",
    "    recall = metrics.recall_score(y_test, y_pred)\n",
    "    f1 = metrics.f1_score(y_test, y_pred)\n",
    "          \n",
    "    print('Accuracy Score: {:.2f}%'.format(accuracy * 100))\n",
    "    print('Precision Score: {:.2f}%'.format(precision * 100))\n",
    "    print('Recall Score: {:.2f}%'.format(recall * 100))\n",
    "    print('F1 Score: {:.2f}%'.format(f1 * 100))\n",
    "    \n",
    "    return logistic_regression, y_pred"
   ]
  },
  {
   "cell_type": "code",
   "execution_count": 5,
   "id": "428ddb63",
   "metadata": {},
   "outputs": [],
   "source": [
    "def conf_matrix(y_test, y_pred):\n",
    "    cm = metrics.confusion_matrix(y_test, y_pred)\n",
    "    plt.figure(figsize=(10, 10))\n",
    "    ax= plt.subplot()\n",
    "    hm = sns.heatmap(cm, annot=True, fmt='g', ax=ax, cmap=\"Blues\", square=True);  #annot=True to annotate cells, ftm='g' to disable scientific notation\n",
    "    \n",
    "    ax.set_xlabel('Predicted label');\n",
    "    ax.set_ylabel('True label'); \n",
    "    ax.set_title('Confusion Matrix'); \n",
    "    ax.xaxis.set_ticklabels(['0', '1']); \n",
    "    ax.yaxis.set_ticklabels(['0', '1']);   "
   ]
  },
  {
   "cell_type": "markdown",
   "id": "fc56749b",
   "metadata": {},
   "source": [
    "---\n",
    "\n",
    "## Exploring Vectorization Methods\n",
    "\n",
    "In Natural Language Processing (NLP), raw textual data is inherently unstructured and cannot be directly fed into machine learning algorithms, which require numerical input. Vectorization bridges this gap by converting text into numerical vectors, representing the content and structure of the original data in a format that algorithms can understand and process. By doing so, vectorization unlocks the potential to derive meaningful insights and patterns from textual data.\n",
    "\n",
    "\n",
    "### CountVectorizer\n",
    "This is a simple method for vectorizing text data, part of the Bag of Words (BoW) approach. It transforms the text into vectors by counting the number of times each word appears in the text. This results in a sparse matrix where each row corresponds to a document and each column is a unique word from the entire corpus"
   ]
  },
  {
   "cell_type": "code",
   "execution_count": 6,
   "id": "f78cbf76",
   "metadata": {},
   "outputs": [
    {
     "name": "stdout",
     "output_type": "stream",
     "text": [
      "Trained model. The training process lasted 4.282345 seconds.\n",
      "Accuracy Score: 59.50%\n",
      "Precision Score: 58.63%\n",
      "Recall Score: 64.72%\n",
      "F1 Score: 61.52%\n"
     ]
    },
    {
     "data": {
      "image/png": "[encoded data removed]",
      "text/plain": [
       "<Figure size 720x720 with 2 Axes>"
      ]
     },
     "metadata": {
      "needs_background": "light"
     },
     "output_type": "display_data"
    }
   ],
   "source": [
    "count_vectorizer = CountVectorizer(max_features=300)\n",
    "X_train_cv = count_vectorizer.fit_transform(X_train)\n",
    "X_test_cv = count_vectorizer.fit_transform(X_test)\n",
    "\n",
    "lr_cv, y_pred_cv = classificate_lr(X_train_cv, X_test_cv, y_train, y_test)\n",
    "conf_matrix(y_test, y_pred_cv)"
   ]
  },
  {
   "cell_type": "markdown",
   "id": "5914be32",
   "metadata": {},
   "source": [
    "### TF-IDF Vectorizer\n",
    "This method also transforms text into vectors, but it does so using the Term Frequency-Inverse Document Frequency (TF-IDF) weighting scheme. It calculates the frequency of each word in a document (Term Frequency), but then scales these counts based on how common the word is across all documents (Inverse Document Frequency). This helps to highlight words that are more unique to a document, giving them more weight than common words."
   ]
  },
  {
   "cell_type": "code",
   "execution_count": 7,
   "id": "ef9dc18e",
   "metadata": {},
   "outputs": [
    {
     "name": "stdout",
     "output_type": "stream",
     "text": [
      "Trained model. The training process lasted 5.114 seconds.\n",
      "Accuracy Score: 59.41%\n",
      "Precision Score: 58.70%\n",
      "Recall Score: 63.63%\n",
      "F1 Score: 61.07%\n"
     ]
    },
    {
     "data": {
      "image/png": "[encoded data removed]",
      "text/plain": [
       "<Figure size 720x720 with 2 Axes>"
      ]
     },
     "metadata": {
      "needs_background": "light"
     },
     "output_type": "display_data"
    }
   ],
   "source": [
    "tfidf_vectorizer = TfidfVectorizer(max_features=300)\n",
    "\n",
    "X_train_tfidf = tfidf_vectorizer.fit_transform(X_train)\n",
    "X_test_tfidf = tfidf_vectorizer.fit_transform(X_test)\n",
    "\n",
    "lr_tfidf, y_pred_tfidf = classificate_lr(X_train_tfidf, X_test_tfidf, y_train, y_test)\n",
    "conf_matrix(y_test, y_pred_tfidf)"
   ]
  },
  {
   "cell_type": "markdown",
   "id": "72dea7bb",
   "metadata": {},
   "source": [
    "### Vectorization with Word2Vec: Training Skip-Gram and CBOW Models\n",
    "\n",
    "Word2Vec is a groundbreaking technique in the realm of Natural Language Processing (NLP) that seeks to represent words as dense vectors in a continuous vector space. Unlike traditional methods that consider words in isolation, Word2Vec captures semantic relationships between words based on their context. This context-aware representation allows for capturing nuances like synonyms, antonyms, and even analogies.\n",
    "\n",
    "There are two main architectures in Word2Vec:"
   ]
  },
  {
   "cell_type": "markdown",
   "id": "5f2d571a-f052-4d06-99a1-4195deaa37f2",
   "metadata": {},
   "source": [
    "<b>Skip-Gram</b>: This model predicts the context (surrounding words) given a target word. It works well with a small amount of data and captures rare words or phrases effectively.\r",
    "<b>\n",
    "CBOW (Continuous Bag of Words)</b>: This model predicts the target word from its context. It's faster and has better representations for more frequent words compared to Skip-Gram\n",
    "\n",
    "By training Word2Vec models, words with similar meanings tend to cluster together in the vector space, allowing for more accurate and nuanced natural language processing tasks.."
   ]
  },
  {
   "cell_type": "code",
   "execution_count": 8,
   "id": "9c819e7f",
   "metadata": {},
   "outputs": [],
   "source": [
    "def train_w2v(dataset, skipgram=0, w=2, s=300, mc=25, a=0.01, ma=0.005):\n",
    "    w2v_model = Word2Vec(sg=skipgram, window=w, vector_size=s, min_count=mc, alpha=a, min_alpha=ma)\n",
    "    lst_tokens = [str(text).split(' ') for text in dataset]\n",
    "    w2v_model.build_vocab(lst_tokens)\n",
    "    w2v_model.train(lst_tokens, total_examples=w2v_model.corpus_count,epochs=30)\n",
    "    return w2v_model"
   ]
  },
  {
   "cell_type": "code",
   "execution_count": 9,
   "id": "edeb2021",
   "metadata": {},
   "outputs": [
    {
     "name": "stdout",
     "output_type": "stream",
     "text": [
      "Trained cbow model. The training process lasted 211.836448 seconds.\n"
     ]
    }
   ],
   "source": [
    "t1 = datetime.now()\n",
    "w2v_cbow = train_w2v(X_train)\n",
    "t2 = datetime.now()\n",
    "\n",
    "print('Trained cbow model. The training process lasted {} seconds.'.format((t2-t1).total_seconds(), '2f'))"
   ]
  },
  {
   "cell_type": "code",
   "execution_count": 10,
   "id": "ec3b2e7a",
   "metadata": {},
   "outputs": [
    {
     "name": "stdout",
     "output_type": "stream",
     "text": [
      "Trained skipgram model. The training process lasted 373.069168 seconds.\n"
     ]
    }
   ],
   "source": [
    "t1 = datetime.now()\n",
    "w2v_sg = train_w2v(X_train, 1)\n",
    "t2 = datetime.now()\n",
    "\n",
    "print('Trained skipgram model. The training process lasted {} seconds.'.format((t2-t1).total_seconds(), '2f'))"
   ]
  },
  {
   "cell_type": "markdown",
   "id": "c350aebb",
   "metadata": {},
   "source": [
    "### Testing cbow and skipgram models"
   ]
  },
  {
   "cell_type": "code",
   "execution_count": 11,
   "id": "dcab133f",
   "metadata": {},
   "outputs": [
    {
     "data": {
      "text/plain": [
       "[('luv', 0.5932999849319458),\n",
       " ('looov', 0.45908457040786743),\n",
       " ('amaz', 0.45163121819496155),\n",
       " ('loooov', 0.44123411178588867),\n",
       " ('awesom', 0.40450987219810486),\n",
       " ('lovin', 0.3972564935684204),\n",
       " ('loov', 0.39662566781044006),\n",
       " ('ador', 0.3920896649360657),\n",
       " ('loveeee', 0.3900236487388611),\n",
       " ('lovee', 0.3682140111923218)]"
      ]
     },
     "execution_count": 11,
     "metadata": {},
     "output_type": "execute_result"
    }
   ],
   "source": [
    "w2v_cbow.wv.most_similar('love')"
   ]
  },
  {
   "cell_type": "code",
   "execution_count": 12,
   "id": "d73995dc",
   "metadata": {},
   "outputs": [
    {
     "data": {
      "text/plain": [
       "[('stupid', 0.4828619658946991),\n",
       " ('suck', 0.45392540097236633),\n",
       " ('dislik', 0.4536099135875702),\n",
       " ('ugh', 0.3873719573020935),\n",
       " ('despis', 0.3677579164505005),\n",
       " ('curs', 0.3641287386417389),\n",
       " ('ughh', 0.3634510636329651),\n",
       " ('horribl', 0.3626236617565155),\n",
       " ('fml', 0.3562828302383423),\n",
       " ('grrrrr', 0.35588908195495605)]"
      ]
     },
     "execution_count": 12,
     "metadata": {},
     "output_type": "execute_result"
    }
   ],
   "source": [
    "w2v_cbow.wv.most_similar('hate')"
   ]
  },
  {
   "cell_type": "code",
   "execution_count": 13,
   "id": "e7f9e323",
   "metadata": {},
   "outputs": [
    {
     "data": {
      "text/plain": [
       "[('loveeee', 0.557395339012146),\n",
       " ('luv', 0.5281370878219604),\n",
       " ('loov', 0.49940598011016846),\n",
       " ('loooov', 0.4886651039123535),\n",
       " ('lovee', 0.4662560522556305),\n",
       " ('looooooov', 0.4335663616657257),\n",
       " ('looooov', 0.4304094612598419),\n",
       " ('looov', 0.42621925473213196),\n",
       " ('godbless', 0.4245189428329468),\n",
       " ('lovin', 0.41528207063674927)]"
      ]
     },
     "execution_count": 13,
     "metadata": {},
     "output_type": "execute_result"
    }
   ],
   "source": [
    "w2v_sg.wv.most_similar('love')"
   ]
  },
  {
   "cell_type": "code",
   "execution_count": 14,
   "id": "844597d2",
   "metadata": {},
   "outputs": [
    {
     "data": {
      "text/plain": [
       "[('suck', 0.46546056866645813),\n",
       " ('detest', 0.4313935935497284),\n",
       " ('dislik', 0.42485353350639343),\n",
       " ('despis', 0.42364123463630676),\n",
       " ('stupid', 0.415779709815979),\n",
       " ('goddamnit', 0.3843092918395996),\n",
       " ('suckss', 0.38224416971206665),\n",
       " ('bane', 0.37656620144844055),\n",
       " ('dictat', 0.37384697794914246),\n",
       " ('ugh', 0.3725864589214325)]"
      ]
     },
     "execution_count": 14,
     "metadata": {},
     "output_type": "execute_result"
    }
   ],
   "source": [
    "w2v_sg.wv.most_similar('hate')"
   ]
  },
  {
   "cell_type": "markdown",
   "id": "55416f4d",
   "metadata": {},
   "source": [
    "### Vectorizing twitter data with Word2Vec models"
   ]
  },
  {
   "cell_type": "code",
   "execution_count": 15,
   "id": "b7ee49a7",
   "metadata": {},
   "outputs": [],
   "source": [
    "ws_tokenizer = tokenize.WhitespaceTokenizer()\n",
    "\n",
    "def vectorizing (text, modelo):\n",
    "    x = len(text)\n",
    "    y = 300\n",
    "    matrix = np.zeros((x,y))\n",
    "    \n",
    "    for i in range(x):\n",
    "        words = ws_tokenizer.tokenize(text.iloc[i])\n",
    "        \n",
    "        for word in words:\n",
    "            if word in modelo.wv:\n",
    "                matrix[i] += modelo.wv.get_vector(word)\n",
    "    return matrix"
   ]
  },
  {
   "cell_type": "code",
   "execution_count": 16,
   "id": "eba5720d",
   "metadata": {},
   "outputs": [],
   "source": [
    "matrix_train_cbow = vectorizing(X_train, w2v_cbow)\n",
    "matrix_test_cbow = vectorizing(X_test, w2v_cbow)\n",
    "\n",
    "matrix_train_sg= vectorizing(X_train, w2v_sg)\n",
    "matrix_test_sg = vectorizing(X_test, w2v_sg)"
   ]
  },
  {
   "cell_type": "markdown",
   "id": "688b883d",
   "metadata": {},
   "source": [
    "### Vectorization with Word2Vec: Evaluation of Skip-Gram and CBOW Models\n",
    "\n",
    "#### CBOW (Continuous Bag of Words)\n"
   ]
  },
  {
   "cell_type": "code",
   "execution_count": 17,
   "id": "61feda65",
   "metadata": {},
   "outputs": [
    {
     "name": "stdout",
     "output_type": "stream",
     "text": [
      "Trained model. The training process lasted 36.984022 seconds.\n",
      "Accuracy Score: 75.41%\n",
      "Precision Score: 74.41%\n",
      "Recall Score: 77.50%\n",
      "F1 Score: 75.92%\n"
     ]
    },
    {
     "data": {
      "image/png": "[encoded data removed]",
      "text/plain": [
       "<Figure size 720x720 with 2 Axes>"
      ]
     },
     "metadata": {
      "needs_background": "light"
     },
     "output_type": "display_data"
    }
   ],
   "source": [
    "#word2vec cbow model\n",
    "lr_cbow, y_pred_cbow = classificate_lr(matrix_train_cbow, matrix_test_cbow, y_train, y_test)\n",
    "conf_matrix(y_test, y_pred_cbow)"
   ]
  },
  {
   "cell_type": "markdown",
   "id": "8857f56a",
   "metadata": {},
   "source": [
    "#### Skip-Gram"
   ]
  },
  {
   "cell_type": "code",
   "execution_count": 18,
   "id": "ddf92142",
   "metadata": {},
   "outputs": [
    {
     "name": "stdout",
     "output_type": "stream",
     "text": [
      "Trained model. The training process lasted 17.586995 seconds.\n",
      "Accuracy Score: 75.25%\n",
      "Precision Score: 74.42%\n",
      "Recall Score: 77.01%\n",
      "F1 Score: 75.69%\n"
     ]
    },
    {
     "data": {
      "image/png": "[encoded data removed]",
      "text/plain": [
       "<Figure size 720x720 with 2 Axes>"
      ]
     },
     "metadata": {
      "needs_background": "light"
     },
     "output_type": "display_data"
    }
   ],
   "source": [
    "#word2vec skipgram model\n",
    "lr_sg, y_pred_sg = classificate_lr(matrix_train_sg, matrix_test_sg, y_train, y_test)\n",
    "conf_matrix(y_test, y_pred_sg)"
   ]
  },
  {
   "cell_type": "markdown",
   "id": "5b6e5223",
   "metadata": {},
   "source": [
    "### Exporting Word2Vec models"
   ]
  },
  {
   "cell_type": "code",
   "execution_count": 19,
   "id": "505d5081",
   "metadata": {},
   "outputs": [],
   "source": [
    "w2v_cbow.save(\"models/word2vec_cbow.model\")"
   ]
  },
  {
   "cell_type": "code",
   "execution_count": 20,
   "id": "01ac4754",
   "metadata": {},
   "outputs": [],
   "source": [
    "w2v_sg.save(\"models/word2vec_sg.model\")"
   ]
  },
  {
   "cell_type": "markdown",
   "id": "e6929623",
   "metadata": {},
   "source": [
    "## Comparative Performance Analysis of Vectorization Methods\r\n",
    "In the task of classifying tweet sentiments, different vectorization methods showcased varying degrees of effectiveness:\r",
    "<b>\n",
    "\r\n",
    "CountVectorizer and TF-IDF Vectoriz</b>er: Both methods exhibited comparable outcomes, with accuracy levels hovering around 59%, precision at approximately 58%, and F1 scores near 61%. Notably, the training phase for these techniques was swift, concluding in just about 4 to 5 seconds<b>.\r\n",
    "\r\n",
    "Word2Vec (CBOW and Skip-Gram): These models clearly outperformed the previous methods. They achieved accuracy levels exceeding 75%, precision rates surpassing 74%, and F1 scores above 75%. Such results underscore their enhanced capability in discerning the sentiment behind tweets.\r\n",
    "\r\n",
    "In summation, while the Word2Vec models demanded a more extended training period, the trade-off in performance was undoubtedly favorable. Their intricate design, which captures the contextual relationships between words, proves to be advantageous in sentiment analysis endeavors, especially when nuanced understanding is paramount."
   ]
  }
 ],
 "metadata": {
  "kernelspec": {
   "display_name": "Python 3 (ipykernel)",
   "language": "python",
   "name": "python3"
  },
  "language_info": {
   "codemirror_mode": {
    "name": "ipython",
    "version": 3
   },
   "file_extension": ".py",
   "mimetype": "text/x-python",
   "name": "python",
   "nbconvert_exporter": "python",
   "pygments_lexer": "ipython3",
   "version": "3.9.12"
  }
 },
 "nbformat": 4,
 "nbformat_minor": 5
}
